{
 "cells": [
  {
   "cell_type": "code",
   "execution_count": null,
   "metadata": {},
   "outputs": [],
   "source": [
    "import pandas as pd\n",
    "import matplotlib.pyplot as plt\n",
    "import matplotlib.scale as scale\n",
    "from matplotlib.animation import FuncAnimation\n",
    "import numpy as np\n",
    "import math\n",
    "\n",
    "base_path = \"../build/03_sine_waves\"\n",
    "\n",
    "values = pd.read_csv(f\"{base_path}/combined.csv\")\n",
    "\n",
    "values['time'] = values.index * (1/44100)\n",
    "\n",
    "\n",
    "\n",
    "values[-5000:].plot(x='time', figsize=(30, 5))\n"
   ]
  },
  {
   "cell_type": "code",
   "execution_count": null,
   "metadata": {},
   "outputs": [],
   "source": [
    "fft = pd.read_csv(f\"{base_path}/mags.csv\", names=['Frequency Bins'])\n",
    "fft['freq'] = fft.index * (44100)/(1024 * 1024)\n",
    "fft.plot(x='freq', y='Frequency Bins', figsize=(10,5))"
   ]
  },
  {
   "cell_type": "code",
   "execution_count": null,
   "metadata": {},
   "outputs": [],
   "source": [
    "# Create a Hann window\n",
    "x = np.linspace(0, len(values.index), len(values.index))\n",
    "y = 0.5 * (1 - np.cos(2.0 * np.pi * x / len(values.index)))\n",
    "\n",
    "plt.plot(x, y)"
   ]
  },
  {
   "cell_type": "code",
   "execution_count": 5,
   "metadata": {},
   "outputs": [],
   "source": [
    "note_names = [\n",
    "    'A0', 'B', \n",
    "    'C1', 'D', 'E', 'F', 'G', 'A', 'B',\n",
    "    'C2', 'D', 'E', 'F', 'G', 'A', 'B',\n",
    "    'C3', 'D', 'E', 'F', 'G', 'A', 'B',\n",
    "    'C4', 'D', 'E', 'F', 'G', 'A', 'B',\n",
    "    'C5', 'D', 'E', 'F', 'G', 'A', 'B',\n",
    "    'C6', 'D', 'E', 'F', 'G', 'A', 'B',\n",
    "    'C7', 'D', 'E', 'F', 'G', 'A', 'B',\n",
    "    'C8'\n",
    "    ]\n",
    "\n",
    "notes = [\n",
    "    27.5, 30.868,\n",
    "    32.7, 36.7, 41.2, 43.7, 49, 55, 61.7,\n",
    "    65.4, 73.4, 82.4, 87.3, 98, 110, 123.5,\n",
    "    130.8, 146.8, 164.8, 174.6, 196, 220, 246.9,\n",
    "    261.6, 293.7, 329.6, 349.2, 392, 440, 493.9,\n",
    "    523.3, 587.3, 659.3, 698.5, 784, 880, 987.8,\n",
    "    1046.5, 1174.7, 1318.5, 1396.9, 1568, 1760, 1979.5,\n",
    "    2093, 2349.3, 2637, 2793.8, 3136, 3520, 3951.1, \n",
    "    4186\n",
    "]\n",
    "\n",
    "#notes = [16.35, 32.70, 43.7, 65.41, 87.3, 130.81, 174.6, 261.63, 349.2, 523.25, 698.5, 1046.50, 1396.9, 2093.0, 2793.8, 4186.01]\n",
    "#"
   ]
  },
  {
   "cell_type": "code",
   "execution_count": null,
   "metadata": {},
   "outputs": [],
   "source": [
    "fft = pd.read_csv(f\"{base_path}/raw.csv\", names=['Frequency Bins'])\n",
    "fft['db'] = 20 * np.log10(fft['Frequency Bins'])\n",
    "\n",
    "sample_rate = 48000\n",
    "n_bins = 8192\n",
    "step = 1024\n",
    "frequency_cutoff = 4200\n",
    "time_per_fft = step / sample_rate\n",
    "\n",
    "frequencies = np.fft.fftfreq(n_bins, 1 / sample_rate)\n",
    "\n",
    "hz_per_bin = sample_rate / n_bins\n",
    "freq_bin_end = int(math.ceil(frequency_cutoff / hz_per_bin))\n",
    "\n",
    "num_frames = len(fft) // freq_bin_end\n",
    "fft_data = fft['db'].values.reshape(num_frames, freq_bin_end)\n",
    "\n",
    "fig, ax = plt.subplots()\n",
    "fig.set_dpi(1920/16)\n",
    "fig.set_figheight(9)\n",
    "fig.set_figwidth(16)\n",
    "line, = ax.plot(frequencies[:freq_bin_end], np.zeros(freq_bin_end))\n",
    "#ax.set_xlim(0, frequency_cutoff)  # Limit x-axis to half of Nyquist frequency\n",
    "ax.set_xscale('log')\n",
    "ax.set_xticks(notes, note_names)\n",
    "ax.set_xlim(27, frequency_cutoff)\n",
    "ax.grid(linestyle=':')\n",
    "\n",
    "a = ax.get_xgridlines()\n",
    "for i, label in enumerate(ax.get_xticklabels()):\n",
    "    if label.get_text().startswith('C'):\n",
    "        label.set_fontsize(13)  # Increase font size\n",
    "        label.set_y(label.get_position()[1] - 0.02)\n",
    "        a[i].set_color('red')\n",
    "        a[i].set_linewidth(2)\n",
    "\n",
    "\n",
    "#ax.set_ylim(0, 1)  # Adjust based on expected FFT magnitude\n",
    "ax.set_ylim(0, fft_data.max())   # Adjust based on expected FFT magnitude\n",
    "def update(frame):\n",
    "    # Update the FFT data in the plot\n",
    "    print(f'Frame: {frame}')\n",
    "    line.set_ydata(fft_data[frame, :freq_bin_end])\n",
    "    return line,\n",
    "\n",
    "ani = FuncAnimation(fig, update, frames=range(num_frames), interval=time_per_fft * 1000, blit=True)\n",
    "print(f\"Saving at {(1/time_per_fft)} fps\")\n",
    "ani.save('animation.mp4', writer='ffmpeg', fps=(1/time_per_fft))"
   ]
  }
 ],
 "metadata": {
  "kernelspec": {
   "display_name": "Python 3",
   "language": "python",
   "name": "python3"
  },
  "language_info": {
   "codemirror_mode": {
    "name": "ipython",
    "version": 3
   },
   "file_extension": ".py",
   "mimetype": "text/x-python",
   "name": "python",
   "nbconvert_exporter": "python",
   "pygments_lexer": "ipython3",
   "version": "3.12.3"
  }
 },
 "nbformat": 4,
 "nbformat_minor": 2
}
