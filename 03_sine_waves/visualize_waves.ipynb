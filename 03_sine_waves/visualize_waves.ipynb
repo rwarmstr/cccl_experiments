{
 "cells": [
  {
   "cell_type": "code",
   "execution_count": null,
   "metadata": {},
   "outputs": [],
   "source": [
    "import pandas as pd\n",
    "import matplotlib.pyplot as plt\n",
    "import numpy as np\n",
    "\n",
    "base_path = \"../build/03_sine_waves\"\n",
    "\n",
    "values = pd.read_csv(f\"{base_path}/combined.csv\")\n",
    "\n",
    "values['time'] = values.index * (1/44100)\n",
    "\n",
    "\n",
    "\n",
    "values[-5000:].plot(x='time', figsize=(30, 5))\n"
   ]
  },
  {
   "cell_type": "code",
   "execution_count": null,
   "metadata": {},
   "outputs": [],
   "source": [
    "fft = pd.read_csv(f\"{base_path}/mags.csv\", names=['Frequency Bins'])\n",
    "fft['freq'] = fft.index * (44100)/(1024 * 1024)\n",
    "fft.plot(x='freq', y='Frequency Bins', figsize=(10,5))"
   ]
  },
  {
   "cell_type": "code",
   "execution_count": null,
   "metadata": {},
   "outputs": [],
   "source": [
    "# Create a Hann window\n",
    "x = np.linspace(0, len(values.index), len(values.index))\n",
    "y = 0.5 * (1 - np.cos(2.0 * np.pi * x / len(values.index)))\n",
    "\n",
    "plt.plot(x, y)"
   ]
  },
  {
   "cell_type": "code",
   "execution_count": null,
   "metadata": {},
   "outputs": [],
   "source": [
    "window = pd.read_csv(f\"{base_path}/window.csv\")\n",
    "window.plot()"
   ]
  },
  {
   "cell_type": "code",
   "execution_count": null,
   "metadata": {},
   "outputs": [],
   "source": [
    "fft = pd.read_csv(f\"{base_path}/video_mags.csv\", names=['Frequency Bins'])\n",
    "fft['freq'] = (fft.index % 4096) * (48000)/(4096)\n",
    "#fft[:2048].plot(x='freq', y='Frequency Bins', figsize=(10,5))\n",
    "num_plots = int(len(fft) / 4096 + 1)\n",
    "fig, axs = plt.subplots(num_plots)\n",
    "\n",
    "for i in range(num_plots):\n",
    "    fft[i * 4096:(i+1)*4096-1].plot(x='freq', y='Frequency Bins', ax=axs[i], figsize=(10,20))"
   ]
  }
 ],
 "metadata": {
  "kernelspec": {
   "display_name": "Python 3",
   "language": "python",
   "name": "python3"
  },
  "language_info": {
   "codemirror_mode": {
    "name": "ipython",
    "version": 3
   },
   "file_extension": ".py",
   "mimetype": "text/x-python",
   "name": "python",
   "nbconvert_exporter": "python",
   "pygments_lexer": "ipython3",
   "version": "3.12.3"
  }
 },
 "nbformat": 4,
 "nbformat_minor": 2
}
