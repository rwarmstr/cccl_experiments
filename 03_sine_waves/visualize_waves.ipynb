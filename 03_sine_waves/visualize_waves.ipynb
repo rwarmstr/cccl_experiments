{
 "cells": [
  {
   "cell_type": "code",
   "execution_count": null,
   "metadata": {},
   "outputs": [],
   "source": [
    "import pandas as pd\n",
    "import matplotlib.pyplot as plt\n",
    "\n",
    "base_path = \"../build/03_sine_waves\"\n",
    "\n",
    "values = pd.read_csv(f\"{base_path}/output.csv\")\n",
    "\n",
    "values['time'] = values.index * (1/44100)\n",
    "\n",
    "\n",
    "\n",
    "values[-5000:].plot(x='time', figsize=(30, 5))\n"
   ]
  },
  {
   "cell_type": "code",
   "execution_count": null,
   "metadata": {},
   "outputs": [],
   "source": [
    "fft = pd.read_csv(f\"{base_path}/mags.csv\", names=['Frequency Bins'])\n",
    "fft['freq'] = fft.index * (44100)/(1024 * 1024)\n",
    "fft[:22000].plot(x='freq', y='Frequency Bins', figsize=(10,5))"
   ]
  }
 ],
 "metadata": {
  "kernelspec": {
   "display_name": "Python 3",
   "language": "python",
   "name": "python3"
  },
  "language_info": {
   "codemirror_mode": {
    "name": "ipython",
    "version": 3
   },
   "file_extension": ".py",
   "mimetype": "text/x-python",
   "name": "python",
   "nbconvert_exporter": "python",
   "pygments_lexer": "ipython3",
   "version": "3.12.3"
  }
 },
 "nbformat": 4,
 "nbformat_minor": 2
}
