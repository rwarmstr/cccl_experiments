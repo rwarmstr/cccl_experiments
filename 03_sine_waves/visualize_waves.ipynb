{
 "cells": [
  {
   "cell_type": "code",
   "execution_count": null,
   "metadata": {},
   "outputs": [],
   "source": [
    "import pandas as pd\n",
    "import matplotlib.pyplot as plt\n",
    "from matplotlib.animation import FuncAnimation\n",
    "import numpy as np\n",
    "import math\n",
    "\n",
    "base_path = \"../build/03_sine_waves\"\n",
    "\n",
    "values = pd.read_csv(f\"{base_path}/combined.csv\")\n",
    "\n",
    "values['time'] = values.index * (1/44100)\n",
    "\n",
    "\n",
    "\n",
    "values[-5000:].plot(x='time', figsize=(30, 5))\n"
   ]
  },
  {
   "cell_type": "code",
   "execution_count": null,
   "metadata": {},
   "outputs": [],
   "source": [
    "fft = pd.read_csv(f\"{base_path}/mags.csv\", names=['Frequency Bins'])\n",
    "fft['freq'] = fft.index * (44100)/(1024 * 1024)\n",
    "fft.plot(x='freq', y='Frequency Bins', figsize=(10,5))"
   ]
  },
  {
   "cell_type": "code",
   "execution_count": null,
   "metadata": {},
   "outputs": [],
   "source": [
    "# Create a Hann window\n",
    "x = np.linspace(0, len(values.index), len(values.index))\n",
    "y = 0.5 * (1 - np.cos(2.0 * np.pi * x / len(values.index)))\n",
    "\n",
    "plt.plot(x, y)"
   ]
  },
  {
   "cell_type": "code",
   "execution_count": null,
   "metadata": {},
   "outputs": [],
   "source": [
    "fft = pd.read_csv(f\"{base_path}/raw.csv\", names=['Frequency Bins'])\n",
    "fft['db'] = 20 * np.log10(fft['Frequency Bins'])\n",
    "\n",
    "sample_rate = 48000\n",
    "n_bins = 8192\n",
    "step = 1024\n",
    "frequency_cutoff = 2000\n",
    "time_per_fft = step / sample_rate\n",
    "\n",
    "frequencies = np.fft.fftfreq(n_bins, 1 / sample_rate)\n",
    "\n",
    "hz_per_bin = sample_rate / n_bins\n",
    "freq_bin_end = int(math.ceil(frequency_cutoff / hz_per_bin))\n",
    "\n",
    "num_frames = len(fft) // freq_bin_end\n",
    "fft_data = fft['db'].values.reshape(num_frames, freq_bin_end)\n",
    "\n",
    "fig, ax = plt.subplots()\n",
    "line, = ax.plot(frequencies[:freq_bin_end], np.zeros(freq_bin_end))\n",
    "ax.set_xlim(0, frequency_cutoff)  # Limit x-axis to half of Nyquist frequency\n",
    "#ax.set_ylim(0, 1)  # Adjust based on expected FFT magnitude\n",
    "ax.set_ylim(0, fft_data.max())   # Adjust based on expected FFT magnitude\n",
    "def update(frame):\n",
    "    # Update the FFT data in the plot\n",
    "    print(f'Frame: {frame}')\n",
    "    line.set_ydata(fft_data[frame, :freq_bin_end])\n",
    "    return line,\n",
    "\n",
    "ani = FuncAnimation(fig, update, frames=range(num_frames), interval=time_per_fft * 1000, blit=True)\n",
    "print(f\"Saving at {(1/time_per_fft)} fps\")\n",
    "ani.save('animation.mp4', writer='ffmpeg', fps=(1/time_per_fft))"
   ]
  }
 ],
 "metadata": {
  "kernelspec": {
   "display_name": "Python 3",
   "language": "python",
   "name": "python3"
  },
  "language_info": {
   "codemirror_mode": {
    "name": "ipython",
    "version": 3
   },
   "file_extension": ".py",
   "mimetype": "text/x-python",
   "name": "python",
   "nbconvert_exporter": "python",
   "pygments_lexer": "ipython3",
   "version": "3.12.3"
  }
 },
 "nbformat": 4,
 "nbformat_minor": 2
}
